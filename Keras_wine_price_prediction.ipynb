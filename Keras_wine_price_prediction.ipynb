{
 "cells": [
  {
   "cell_type": "code",
   "execution_count": 1,
   "metadata": {},
   "outputs": [],
   "source": [
    "#Importing the required libraries\n",
    "from __future__ import absolute_import\n",
    "from __future__ import division\n",
    "from __future__ import print_function"
   ]
  },
  {
   "cell_type": "code",
   "execution_count": 2,
   "metadata": {},
   "outputs": [
    {
     "name": "stdout",
     "output_type": "stream",
     "text": [
      "You have TensorFlow version 1.14.0\n"
     ]
    }
   ],
   "source": [
    "import itertools\n",
    "import os\n",
    "import math\n",
    "import numpy as np\n",
    "import pandas as pd\n",
    "import tensorflow as tf\n",
    "\n",
    "from sklearn.preprocessing import LabelEncoder\n",
    "from tensorflow import keras\n",
    "layers = keras.layers\n",
    "\n",
    "# This code was tested with TensorFlow v1.7\n",
    "print(\"You have TensorFlow version\", tf.__version__)"
   ]
  },
  {
   "cell_type": "code",
   "execution_count": 3,
   "metadata": {},
   "outputs": [
    {
     "name": "stdout",
     "output_type": "stream",
     "text": [
      "Downloading data from https://storage.googleapis.com/sara-cloud-ml/wine_data.csv\n",
      "49790976/49783940 [==============================] - 2s 0us/step\n"
     ]
    }
   ],
   "source": [
    "# Get the data: original source is here: https://www.kaggle.com/zynicide/wine-reviews/data\n",
    "URL = \"https://storage.googleapis.com/sara-cloud-ml/wine_data.csv\"\n",
    "path = tf.keras.utils.get_file(URL.split('/')[-1], URL)"
   ]
  },
  {
   "cell_type": "code",
   "execution_count": 4,
   "metadata": {},
   "outputs": [],
   "source": [
    "# Convert the data to a Pandas data frame\n",
    "data = pd.read_csv(path)"
   ]
  },
  {
   "cell_type": "code",
   "execution_count": 5,
   "metadata": {},
   "outputs": [
    {
     "data": {
      "text/html": [
       "<div>\n",
       "<style scoped>\n",
       "    .dataframe tbody tr th:only-of-type {\n",
       "        vertical-align: middle;\n",
       "    }\n",
       "\n",
       "    .dataframe tbody tr th {\n",
       "        vertical-align: top;\n",
       "    }\n",
       "\n",
       "    .dataframe thead th {\n",
       "        text-align: right;\n",
       "    }\n",
       "</style>\n",
       "<table border=\"1\" class=\"dataframe\">\n",
       "  <thead>\n",
       "    <tr style=\"text-align: right;\">\n",
       "      <th></th>\n",
       "      <th>Unnamed: 0</th>\n",
       "      <th>country</th>\n",
       "      <th>description</th>\n",
       "      <th>designation</th>\n",
       "      <th>points</th>\n",
       "      <th>price</th>\n",
       "      <th>province</th>\n",
       "      <th>region_1</th>\n",
       "      <th>region_2</th>\n",
       "      <th>variety</th>\n",
       "      <th>winery</th>\n",
       "    </tr>\n",
       "  </thead>\n",
       "  <tbody>\n",
       "    <tr>\n",
       "      <td>116680</td>\n",
       "      <td>116680</td>\n",
       "      <td>US</td>\n",
       "      <td>Unacceptably vegetal and moldy, not to mention...</td>\n",
       "      <td>Benito Dusi Vineyard</td>\n",
       "      <td>80</td>\n",
       "      <td>28.0</td>\n",
       "      <td>California</td>\n",
       "      <td>Paso Robles</td>\n",
       "      <td>Central Coast</td>\n",
       "      <td>Zinfandel</td>\n",
       "      <td>Piedra Creek</td>\n",
       "    </tr>\n",
       "    <tr>\n",
       "      <td>113621</td>\n",
       "      <td>113621</td>\n",
       "      <td>Germany</td>\n",
       "      <td>Light and very crisp, this wine even boasts hi...</td>\n",
       "      <td>QbA</td>\n",
       "      <td>84</td>\n",
       "      <td>21.0</td>\n",
       "      <td>Pfalz</td>\n",
       "      <td>NaN</td>\n",
       "      <td>NaN</td>\n",
       "      <td>Riesling</td>\n",
       "      <td>A. Christmann</td>\n",
       "    </tr>\n",
       "    <tr>\n",
       "      <td>14843</td>\n",
       "      <td>14843</td>\n",
       "      <td>US</td>\n",
       "      <td>So forward and appealing right now, it's hard ...</td>\n",
       "      <td>NaN</td>\n",
       "      <td>91</td>\n",
       "      <td>24.0</td>\n",
       "      <td>California</td>\n",
       "      <td>Napa Valley</td>\n",
       "      <td>Napa</td>\n",
       "      <td>Merlot</td>\n",
       "      <td>Flora Springs</td>\n",
       "    </tr>\n",
       "    <tr>\n",
       "      <td>75956</td>\n",
       "      <td>75956</td>\n",
       "      <td>US</td>\n",
       "      <td>Made from undisclosed varieties, this is a des...</td>\n",
       "      <td>Doce Nove</td>\n",
       "      <td>84</td>\n",
       "      <td>38.0</td>\n",
       "      <td>California</td>\n",
       "      <td>Paso Robles</td>\n",
       "      <td>Central Coast</td>\n",
       "      <td>Petite Sirah</td>\n",
       "      <td>Niner</td>\n",
       "    </tr>\n",
       "    <tr>\n",
       "      <td>36013</td>\n",
       "      <td>36013</td>\n",
       "      <td>Spain</td>\n",
       "      <td>A tight note of spearmint defines the nose. Th...</td>\n",
       "      <td>Castell de Raimat</td>\n",
       "      <td>82</td>\n",
       "      <td>10.0</td>\n",
       "      <td>Catalonia</td>\n",
       "      <td>Costers del Segre</td>\n",
       "      <td>NaN</td>\n",
       "      <td>Cabernet Sauvignon</td>\n",
       "      <td>Raimat</td>\n",
       "    </tr>\n",
       "  </tbody>\n",
       "</table>\n",
       "</div>"
      ],
      "text/plain": [
       "        Unnamed: 0  country  \\\n",
       "116680      116680       US   \n",
       "113621      113621  Germany   \n",
       "14843        14843       US   \n",
       "75956        75956       US   \n",
       "36013        36013    Spain   \n",
       "\n",
       "                                              description  \\\n",
       "116680  Unacceptably vegetal and moldy, not to mention...   \n",
       "113621  Light and very crisp, this wine even boasts hi...   \n",
       "14843   So forward and appealing right now, it's hard ...   \n",
       "75956   Made from undisclosed varieties, this is a des...   \n",
       "36013   A tight note of spearmint defines the nose. Th...   \n",
       "\n",
       "                 designation  points  price    province           region_1  \\\n",
       "116680  Benito Dusi Vineyard      80   28.0  California        Paso Robles   \n",
       "113621                   QbA      84   21.0       Pfalz                NaN   \n",
       "14843                    NaN      91   24.0  California        Napa Valley   \n",
       "75956              Doce Nove      84   38.0  California        Paso Robles   \n",
       "36013      Castell de Raimat      82   10.0   Catalonia  Costers del Segre   \n",
       "\n",
       "             region_2             variety         winery  \n",
       "116680  Central Coast           Zinfandel   Piedra Creek  \n",
       "113621            NaN            Riesling  A. Christmann  \n",
       "14843            Napa              Merlot  Flora Springs  \n",
       "75956   Central Coast        Petite Sirah          Niner  \n",
       "36013             NaN  Cabernet Sauvignon         Raimat  "
      ]
     },
     "execution_count": 5,
     "metadata": {},
     "output_type": "execute_result"
    }
   ],
   "source": [
    "# Shuffle the data\n",
    "data = data.sample(frac=1)\n",
    "\n",
    "# Print the first 5 rows\n",
    "data.head()"
   ]
  },
  {
   "cell_type": "code",
   "execution_count": 6,
   "metadata": {},
   "outputs": [],
   "source": [
    "# Do some preprocessing to limit the # of wine varities in the dataset\n",
    "data = data[pd.notnull(data['country'])]\n",
    "data = data[pd.notnull(data['price'])]\n",
    "data = data.drop(data.columns[0], axis=1) \n",
    "\n",
    "variety_threshold = 500 # Anything that occurs less than this will be removed.\n",
    "value_counts = data['variety'].value_counts()\n",
    "to_remove = value_counts[value_counts <= variety_threshold].index\n",
    "data.replace(to_remove, np.nan, inplace=True)\n",
    "data = data[pd.notnull(data['variety'])]"
   ]
  },
  {
   "cell_type": "code",
   "execution_count": 7,
   "metadata": {},
   "outputs": [
    {
     "name": "stdout",
     "output_type": "stream",
     "text": [
      "Train size: 95646\n",
      "Test size: 23912\n"
     ]
    }
   ],
   "source": [
    "# Split data into train and test\n",
    "train_size = int(len(data) * .8)\n",
    "print (\"Train size: %d\" % train_size)\n",
    "print (\"Test size: %d\" % (len(data) - train_size))"
   ]
  },
  {
   "cell_type": "code",
   "execution_count": 8,
   "metadata": {},
   "outputs": [],
   "source": [
    "# Train features\n",
    "description_train = data['description'][:train_size]\n",
    "variety_train = data['variety'][:train_size]\n",
    "\n",
    "# Train labels\n",
    "labels_train = data['price'][:train_size]\n",
    "\n",
    "# Test features\n",
    "description_test = data['description'][train_size:]\n",
    "variety_test = data['variety'][train_size:]\n",
    "\n",
    "# Test labels\n",
    "labels_test = data['price'][train_size:]"
   ]
  },
  {
   "cell_type": "code",
   "execution_count": 9,
   "metadata": {},
   "outputs": [],
   "source": [
    "# Create a tokenizer to preprocess our text descriptions\n",
    "vocab_size = 12000 # This is a hyperparameter, experiment with different values for your dataset\n",
    "tokenize = keras.preprocessing.text.Tokenizer(num_words=vocab_size, char_level=False)\n",
    "tokenize.fit_on_texts(description_train) # only fit on train"
   ]
  },
  {
   "cell_type": "code",
   "execution_count": 10,
   "metadata": {},
   "outputs": [],
   "source": [
    "# Wide feature 1: sparse bag of words (bow) vocab_size vector \n",
    "description_bow_train = tokenize.texts_to_matrix(description_train)\n",
    "description_bow_test = tokenize.texts_to_matrix(description_test)"
   ]
  },
  {
   "cell_type": "code",
   "execution_count": 11,
   "metadata": {},
   "outputs": [],
   "source": [
    "# Wide feature 2: one-hot vector of variety categories\n",
    "\n",
    "# Use sklearn utility to convert label strings to numbered index\n",
    "encoder = LabelEncoder()\n",
    "encoder.fit(variety_train)\n",
    "variety_train = encoder.transform(variety_train)\n",
    "variety_test = encoder.transform(variety_test)\n",
    "num_classes = np.max(variety_train) + 1\n",
    "\n",
    "# Convert labels to one hot\n",
    "variety_train = keras.utils.to_categorical(variety_train, num_classes)\n",
    "variety_test = keras.utils.to_categorical(variety_test, num_classes)"
   ]
  },
  {
   "cell_type": "code",
   "execution_count": 13,
   "metadata": {},
   "outputs": [],
   "source": [
    "# Define our wide model with the functional API\n",
    "import warnings\n",
    "warnings.filterwarnings(\"ignore\")\n",
    "\n",
    "bow_inputs = layers.Input(shape=(vocab_size,))\n",
    "variety_inputs = layers.Input(shape=(num_classes,))\n",
    "merged_layer = layers.concatenate([bow_inputs, variety_inputs])\n",
    "merged_layer = layers.Dense(256, activation='relu')(merged_layer)\n",
    "predictions = layers.Dense(1)(merged_layer)\n",
    "wide_model = keras.Model(inputs=[bow_inputs, variety_inputs], outputs=predictions)"
   ]
  },
  {
   "cell_type": "code",
   "execution_count": 14,
   "metadata": {},
   "outputs": [
    {
     "name": "stdout",
     "output_type": "stream",
     "text": [
      "Model: \"model_1\"\n",
      "__________________________________________________________________________________________________\n",
      "Layer (type)                    Output Shape         Param #     Connected to                     \n",
      "==================================================================================================\n",
      "input_3 (InputLayer)            [(None, 12000)]      0                                            \n",
      "__________________________________________________________________________________________________\n",
      "input_4 (InputLayer)            [(None, 40)]         0                                            \n",
      "__________________________________________________________________________________________________\n",
      "concatenate_1 (Concatenate)     (None, 12040)        0           input_3[0][0]                    \n",
      "                                                                 input_4[0][0]                    \n",
      "__________________________________________________________________________________________________\n",
      "dense_2 (Dense)                 (None, 256)          3082496     concatenate_1[0][0]              \n",
      "__________________________________________________________________________________________________\n",
      "dense_3 (Dense)                 (None, 1)            257         dense_2[0][0]                    \n",
      "==================================================================================================\n",
      "Total params: 3,082,753\n",
      "Trainable params: 3,082,753\n",
      "Non-trainable params: 0\n",
      "__________________________________________________________________________________________________\n",
      "None\n"
     ]
    }
   ],
   "source": [
    "wide_model.compile(loss='mse', optimizer='adam', metrics=['accuracy'])\n",
    "print(wide_model.summary())"
   ]
  },
  {
   "cell_type": "code",
   "execution_count": 15,
   "metadata": {},
   "outputs": [],
   "source": [
    "# Deep model feature: word embeddings of wine descriptions\n",
    "train_embed = tokenize.texts_to_sequences(description_train)\n",
    "test_embed = tokenize.texts_to_sequences(description_test)\n",
    "\n",
    "max_seq_length = 170\n",
    "train_embed = keras.preprocessing.sequence.pad_sequences(\n",
    "    train_embed, maxlen=max_seq_length, padding=\"post\")\n",
    "test_embed = keras.preprocessing.sequence.pad_sequences(\n",
    "    test_embed, maxlen=max_seq_length, padding=\"post\")"
   ]
  },
  {
   "cell_type": "code",
   "execution_count": 17,
   "metadata": {},
   "outputs": [
    {
     "name": "stdout",
     "output_type": "stream",
     "text": [
      "Model: \"model_3\"\n",
      "_________________________________________________________________\n",
      "Layer (type)                 Output Shape              Param #   \n",
      "=================================================================\n",
      "input_6 (InputLayer)         [(None, 170)]             0         \n",
      "_________________________________________________________________\n",
      "embedding_1 (Embedding)      (None, 170, 8)            96000     \n",
      "_________________________________________________________________\n",
      "flatten_1 (Flatten)          (None, 1360)              0         \n",
      "_________________________________________________________________\n",
      "dense_5 (Dense)              (None, 1)                 1361      \n",
      "=================================================================\n",
      "Total params: 97,361\n",
      "Trainable params: 97,361\n",
      "Non-trainable params: 0\n",
      "_________________________________________________________________\n",
      "None\n"
     ]
    }
   ],
   "source": [
    "# Define our deep model with the Functional API\n",
    "import warnings\n",
    "warnings.filterwarnings(\"ignore\")\n",
    "\n",
    "deep_inputs = layers.Input(shape=(max_seq_length,))\n",
    "embedding = layers.Embedding(vocab_size, 8, input_length=max_seq_length)(deep_inputs)\n",
    "embedding = layers.Flatten()(embedding)\n",
    "embed_out = layers.Dense(1)(embedding)\n",
    "deep_model = keras.Model(inputs=deep_inputs, outputs=embed_out)\n",
    "print(deep_model.summary())"
   ]
  },
  {
   "cell_type": "code",
   "execution_count": 18,
   "metadata": {},
   "outputs": [],
   "source": [
    "#Compiling the model created\n",
    "deep_model.compile(loss='mse',\n",
    "                       optimizer='adam',\n",
    "                       metrics=['accuracy'])"
   ]
  },
  {
   "cell_type": "code",
   "execution_count": 19,
   "metadata": {},
   "outputs": [
    {
     "name": "stdout",
     "output_type": "stream",
     "text": [
      "Model: \"model_4\"\n",
      "__________________________________________________________________________________________________\n",
      "Layer (type)                    Output Shape         Param #     Connected to                     \n",
      "==================================================================================================\n",
      "input_3 (InputLayer)            [(None, 12000)]      0                                            \n",
      "__________________________________________________________________________________________________\n",
      "input_4 (InputLayer)            [(None, 40)]         0                                            \n",
      "__________________________________________________________________________________________________\n",
      "input_6 (InputLayer)            [(None, 170)]        0                                            \n",
      "__________________________________________________________________________________________________\n",
      "concatenate_1 (Concatenate)     (None, 12040)        0           input_3[0][0]                    \n",
      "                                                                 input_4[0][0]                    \n",
      "__________________________________________________________________________________________________\n",
      "embedding_1 (Embedding)         (None, 170, 8)       96000       input_6[0][0]                    \n",
      "__________________________________________________________________________________________________\n",
      "dense_2 (Dense)                 (None, 256)          3082496     concatenate_1[0][0]              \n",
      "__________________________________________________________________________________________________\n",
      "flatten_1 (Flatten)             (None, 1360)         0           embedding_1[0][0]                \n",
      "__________________________________________________________________________________________________\n",
      "dense_3 (Dense)                 (None, 1)            257         dense_2[0][0]                    \n",
      "__________________________________________________________________________________________________\n",
      "dense_5 (Dense)                 (None, 1)            1361        flatten_1[0][0]                  \n",
      "__________________________________________________________________________________________________\n",
      "concatenate_2 (Concatenate)     (None, 2)            0           dense_3[0][0]                    \n",
      "                                                                 dense_5[0][0]                    \n",
      "__________________________________________________________________________________________________\n",
      "dense_6 (Dense)                 (None, 1)            3           concatenate_2[0][0]              \n",
      "==================================================================================================\n",
      "Total params: 3,180,117\n",
      "Trainable params: 3,180,117\n",
      "Non-trainable params: 0\n",
      "__________________________________________________________________________________________________\n",
      "None\n"
     ]
    }
   ],
   "source": [
    "#Combine wide and deep into one model\n",
    "merged_out = layers.concatenate([wide_model.output, deep_model.output])\n",
    "merged_out = layers.Dense(1)(merged_out)\n",
    "combined_model = keras.Model(wide_model.input + [deep_model.input], merged_out)\n",
    "print(combined_model.summary())\n",
    "\n",
    "combined_model.compile(loss='mse',\n",
    "                       optimizer='adam',\n",
    "                       metrics=['accuracy'])"
   ]
  },
  {
   "cell_type": "code",
   "execution_count": 20,
   "metadata": {},
   "outputs": [
    {
     "name": "stdout",
     "output_type": "stream",
     "text": [
      "Epoch 1/10\n",
      "95646/95646 [==============================] - 50s 520us/sample - loss: 1142.9461 - acc: 0.0000e+00\n",
      "Epoch 2/10\n",
      "95646/95646 [==============================] - 40s 422us/sample - loss: 888.0343 - acc: 0.0000e+00\n",
      "Epoch 3/10\n",
      "95646/95646 [==============================] - 38s 402us/sample - loss: 753.2520 - acc: 0.0000e+00\n",
      "Epoch 4/10\n",
      "95646/95646 [==============================] - 39s 408us/sample - loss: 627.4694 - acc: 0.0000e+00\n",
      "Epoch 5/10\n",
      "95646/95646 [==============================] - 39s 410us/sample - loss: 507.8009 - acc: 0.0000e+00\n",
      "Epoch 6/10\n",
      "95646/95646 [==============================] - 40s 418us/sample - loss: 395.6194 - acc: 0.0000e+00\n",
      "Epoch 7/10\n",
      "95646/95646 [==============================] - 40s 413us/sample - loss: 301.7766 - acc: 0.0000e+00\n",
      "Epoch 8/10\n",
      "95646/95646 [==============================] - 38s 401us/sample - loss: 225.5846 - acc: 0.0000e+00 - loss: 229\n",
      "Epoch 9/10\n",
      "95646/95646 [==============================] - 40s 415us/sample - loss: 169.4005 - acc: 0.0000e+00\n",
      "Epoch 10/10\n",
      "95646/95646 [==============================] - 39s 407us/sample - loss: 127.8256 - acc: 0.0000e+00\n"
     ]
    },
    {
     "data": {
      "text/plain": [
       "<tensorflow.python.keras.callbacks.History at 0x1e8f37181c8>"
      ]
     },
     "execution_count": 20,
     "metadata": {},
     "output_type": "execute_result"
    }
   ],
   "source": [
    "# Run training\n",
    "combined_model.fit([description_bow_train, variety_train] + [train_embed], labels_train, epochs=10, batch_size=128)"
   ]
  },
  {
   "cell_type": "code",
   "execution_count": 21,
   "metadata": {},
   "outputs": [
    {
     "name": "stdout",
     "output_type": "stream",
     "text": [
      "23912/23912 [==============================] - 10s 434us/sample - loss: 710.8781 - acc: 0.0000e+00\n"
     ]
    },
    {
     "data": {
      "text/plain": [
       "[710.8780591191955, 0.0]"
      ]
     },
     "execution_count": 21,
     "metadata": {},
     "output_type": "execute_result"
    }
   ],
   "source": [
    "combined_model.evaluate([description_bow_test, variety_test] + [test_embed], labels_test, batch_size=128)"
   ]
  },
  {
   "cell_type": "code",
   "execution_count": 22,
   "metadata": {},
   "outputs": [],
   "source": [
    "# Generate predictions\n",
    "predictions = combined_model.predict([description_bow_test, variety_test] + [test_embed])"
   ]
  },
  {
   "cell_type": "code",
   "execution_count": 23,
   "metadata": {},
   "outputs": [
    {
     "name": "stdout",
     "output_type": "stream",
     "text": [
      "This is the first release of this designation. The vintage was warm and ripe, and the vineyard is hard by the Sonoma border but in Napa. It's an interesting wine. It shows the power and intensity of low-yielding vines, with explosive blackberry and cherry flavors, but maintains the silky elegance you want in Pinot.\n",
      "Predicted:  50.7557 Actual:  60.0 \n",
      "\n",
      "The deep, brooding nose blends dark purple fruit with black licorice and Chinese black pepper sauce. Sage bark and anise contribute herbal tones to the palate—likely thanks to the inclusion of 14% Merlot and 11% Cabernet Franc—and blackberries rule the fruit profile.\n",
      "Predicted:  20.74551 Actual:  56.0 \n",
      "\n",
      "Low in alcohol, high in acidity and ultra-dry, this Syrah is pretty severe in the mouth. It has a tight, citrusy tartness, with sour cherry candy and orange rind flavors. Give it a good, long decant.\n",
      "Predicted:  38.36195 Actual:  40.0 \n",
      "\n",
      "Rich, thick, heavy and sweet in oak, this Cabernet is made to appeal to fans of this ripe style. It's a fancy, plush wine, but too obvious, lacking subtlety and complexity. Drink now.\n",
      "Predicted:  65.30685 Actual:  40.0 \n",
      "\n",
      "The fruit appears very ripe, almost too ripe, making the wine difficult to pair with food because of the width and intensity of its jammy nose. Yet more harmonious tones of chocolate, coffee and spice kick in at the rear to add dimension.\n",
      "Predicted:  49.912987 Actual:  50.0 \n",
      "\n",
      "A fine rendition of this wine that honors the founding father of the Washington wine industry. Elegant and polished, it blends classic Bordeaux varieties into a complete and satisfying wine with mixed black fruits, coffee grounds, loam, pencil shavings and fresh-cut tobacco. Drinking well already, it will age gracefully for up to a decade.\n",
      "Predicted:  68.974335 Actual:  30.0 \n",
      "\n",
      "Good things are happening at Patton Valley, whose estate-grown wines are sustainably farmed and certified. This young, fresh Pinot Noir is bursting with ripe raspberries, juicy and alive in the mouth, leaving with a clean, crisp lick of minerality.\n",
      "Predicted:  35.750134 Actual:  35.0 \n",
      "\n",
      "Bottled after five years, this is an LBV that could well age. It is a ripe wine, bringing out a dry tang of dark raisins and black figs. Attractive perfumes go with the richness of the texture. Tannins add to the aging potential.\n",
      "Predicted:  29.826818 Actual:  26.0 \n",
      "\n",
      "This wide open Syrah shows berry and heavy vanilla notes. As the flavors wind through the palate, the back end seems to tighten up, and it finishes with a somewhat green, lightly herbal flourish.\n",
      "Predicted:  16.591991 Actual:  22.0 \n",
      "\n",
      "Made from 100% Cabernet Sauvignon, this wine was grown in the Vaca Mountains above the Silverado Trail, within the Rutherford AVA. It's very dry and very tannic, making it undrinkable now. Yet it has a potent core of blackberries and black cherries, and is classically structured. Seems to have everything it needs for the cellar. 2012–2018.\n",
      "Predicted:  124.11562 Actual:  60.0 \n",
      "\n",
      "Here's an organic Prosecco with a wide variety of adjectives that can be attributed to its aromas: peach, lemon blossom, white peppercorn and talc powder. It boasts good personality and freshness on the close.\n",
      "Predicted:  11.986176 Actual:  14.0 \n",
      "\n",
      "This is a rich, complex Chardonnay that's made to appeal to fans of the variety. Acidity brightens the green apple, peach and pear flavors, while oak brings notes of buttered toast and caramel. The alcohol is a little high and warm, making the wine ready to drink now.\n",
      "Predicted:  37.816063 Actual:  30.0 \n",
      "\n",
      "There's lots of good stuff in this Cab, which showcases Lake County's potential. It has ripe, fruit-foward flavors of blackberry and cherry jam, with balancing acidity and tannin. Feels a bit rough around the edges, but it's a nice drinking wine.\n",
      "Predicted:  12.923286 Actual:  19.0 \n",
      "\n",
      "Dark, lush and brooding, this is a beautiful wine with tons of character and potential. Right now, the components are bold and powerful: deep red plum flesh, raspberry, fresh-ground coffee granules, cedar, garrigue spice and cocoa. The tannins are firm and the the finish is long with flecks of pepper shining through. A beautiful wine that can be drunk now or held for another 2–4 years.\n",
      "Predicted:  47.685074 Actual:  50.0 \n",
      "\n",
      "The vineyard is in the cooler Green Valley, and this Pinot shows its terroir in the vital acidity that brightens pure, intense cherry, blueberry and blackberry fruit flavors. It's an elegant wine, but tannic. Give it 4–6 years in the cellar.\n",
      "Predicted:  55.07119 Actual:  58.0 \n",
      "\n",
      "Dusty and still fairly fresh, but with that said this wine was certainly more in its prime six or eight months ago. Now it is slick but softening, with peach and citrus flavors doing their thing without much edge or kick.\n",
      "Predicted:  14.931092 Actual:  12.0 \n",
      "\n",
      "One of the best Vista Verde Pinots ever from Williams Selyem. Ripe and delicious, with cherry, raspberry and sandalwood flavors, and a tang of minerals and flowers that come from the vineyard. Feels a little awkward now, so give it 5–6 years in the cellar.\n",
      "Predicted:  57.00292 Actual:  54.0 \n",
      "\n",
      "Luscious and thick, this is precisely the kind of Pinot Grigio you'll want to pair with salmon, white meat, asparagus or leafy spinach and ricotta ravioli. It has structure and penetration and ends with a swirl of passion fruit, pineapple and yellow rose.\n",
      "Predicted:  27.63308 Actual:  25.0 \n",
      "\n",
      "A mere 174 cases of this wine were produced. It shares the essence of the '03 Monte Rosso Zin, reviewed below, but is richer and more concentrated, as well as much higher in alcohol, pushing 16%. Thoroughly dry, with flavors of coffee, dried blackberries, bitter chocolate and cloves, this is a complex, impressive wine.\n",
      "Predicted:  46.9809 Actual:  50.0 \n",
      "\n",
      "Good price for a brisk, clean and elegant rosé sparkling wine. With a pretty copper color, it offers rich raspberry, strawberry and toast flavors. The finish is dry and honeyed at the same time.\n",
      "Predicted:  24.626991 Actual:  22.0 \n",
      "\n",
      "Earthy and simple, with a taste of canned peach juice.\n",
      "Predicted:  14.943663 Actual:  8.0 \n",
      "\n",
      "It's safe to say that Gianfranco Soldera's style is only appreciated and understood by Brunello purists. The wines are as thorny and complex as the argumentative, cantankerous man who makes them. For one, this wine has big volatility but the magic here is that those pungent direct aromas translate into bright aromatic vibrancy and buoyancy. In fact, its intensity and the careful balance between acidity and structure is unmatched.\n",
      "Predicted:  250.15726 Actual:  293.0 \n",
      "\n",
      "Wood-aged wine that shows pedigree and style. It has red berry fruit flavors, firm tannins along with acidity and a dry core. It's a serious wine, for aging over 4–5 years.\n",
      "Predicted:  36.52375 Actual:  14.0 \n",
      "\n",
      "Right off the bat this fails to impress. The nose has a chemical-like burn and weird, unfamiliar aromas. All this portends an industrial-tasting wine with odd infiltrations of butter and green vegetables. Barely acceptable.\n",
      "Predicted:  10.464795 Actual:  10.0 \n",
      "\n",
      "This pure Syrah—the first reserve Syrah from Gorman—pulls out all the stops. It's a tannic, bold, earthy and powerful wine that's loaded with black fruits. Aged for 20 months in 100% new French oak, it takes the wood in stride, adding Red Mountain minerality to the mix.\n",
      "Predicted:  38.0846 Actual:  80.0 \n",
      "\n",
      "Aged in 100% new French oak, this seems to be a bit overwhelmed by the wood. Flavors recall black cherry cola, plus a layer of brown sugar and milk chocolate. It somehow misses some of the depth and texture that past vintages have shown.\n",
      "Predicted:  50.093727 Actual:  100.0 \n",
      "\n",
      "A good everyday Merlot that's dry and softly tannic, with pleasant cherry, cola and spice flavors.\n",
      "Predicted:  16.104567 Actual:  10.0 \n",
      "\n",
      "Le Ragose makes Classico and non-Classico Amarone. This is the non-Classico version with notes of toast, vanilla and raspberry fruit roll-up. It also shows nice aged qualities such as dark mineral, tar, resin and dried prune, making it ready to drink immediately. It has great length on the finish, firm tannins and bright acidity.\n",
      "Predicted:  84.189156 Actual:  62.0 \n",
      "\n",
      "Here's a “wow” wine you won't easily forget. Messorio is all Merlot, and happily delivers the softness, richness and overall opulence that we love in this noble grape variety. What elevates this particular expression and vintage is the true elegance and sophistication evident here. This is a huge wine, but it's not exaggerated and the finish is as long and smooth as they come.\n",
      "Predicted:  295.31085 Actual:  320.0 \n",
      "\n",
      "Wildflower and lemon zest brighten this dry, citrusy Pinot Gris. Lip smacking white grapefruit flavors flood the palate, along with a hint of bitter almond. It's a revitalizing white that's ready to drink, but also likely to maintain its fresh, primary flavors through 2017.\n",
      "Predicted:  21.434765 Actual:  25.0 \n",
      "\n",
      "This 100% Cabernet Sauvignon is so rich and decadent, with milk chocolate, blackberry and new French oak flavors. Made by celebrity winemaker Philippe Melka, it's soft and approacheable on the palate and widely appealing. Your best bet is to drink up now.\n",
      "Predicted:  125.72433 Actual:  125.0 \n",
      "\n",
      "The slightly oxidized nose of this wine by Michael Gill recalls dried yet tart apricot skins with a bit of white peach freshness. The palate is framed by acidity while offering apple and lime flavors.\n",
      "Predicted:  41.0864 Actual:  38.0 \n",
      "\n",
      "Concentrated and powerful, this is a rich and intense black-fruited wine. Notes of spice, herb and dark chocolate mingle with the flavor of black plum juice and firm, dry tannins. The result is a wine that needs several more years to age.\n",
      "Predicted:  22.194971 Actual:  12.0 \n",
      "\n",
      "The opening of floral and plum aromas is nice, and that's followed by some earth and heft. The palate is fleshy and tannic, with deep raspberry and plum flavors. The depth on this wine is pretty good, yet it finishes sort of short.\n",
      "Predicted:  22.748457 Actual:  25.0 \n",
      "\n",
      "Swathes of savory dried sage lend earthiness to deep, rippling cherry and raspberry flavors in this dry, Cabernet Franc rosé. It's zesty and bright, with a dancing, delicate mouthfeel.\n",
      "Predicted:  18.554293 Actual:  14.0 \n",
      "\n",
      "Sharp and crisp in citrusy acidity, this Chard has jammy flavors of apricots, pineapples and vanilla oak. A little direct, but dry and creamy, and easy to drink.\n",
      "Predicted:  25.188623 Actual:  37.0 \n",
      "\n",
      "This is a fine, ageable Pinot Noir that's dry and crisp with acidity. It exhibits a mushroomy earthiness that frames strawberry, cranberry and cola flavors. The window of drinkability begins in 2015.\n",
      "Predicted:  50.56867 Actual:  75.0 \n",
      "\n",
      "This 100% Cabernet tastes way too oaky. Vanilla cream and caramel dominate the blackberries and black currants, giving it a woody sweetness. The question is, will it age out? The classic answer is that a wine that tastes unbalanced when young most likely always will.\n",
      "Predicted:  62.893017 Actual:  65.0 \n",
      "\n",
      "Thin tasting, like apple cider, with high acidity and a slight scent of animal.\n",
      "Predicted:  22.504896 Actual:  16.0 \n",
      "\n",
      "Restrained both aromatically and on the palate, this Riesling offers modest hints of green apple and pear combined with a slightly herbal note. There's not a lot of complexity or concentration, but it's a brisk, refreshing wine.\n",
      "Predicted:  16.874943 Actual:  14.0 \n",
      "\n"
     ]
    }
   ],
   "source": [
    "# Compare predictions with actual values for the first few items in our test dataset\n",
    "num_predictions = 40\n",
    "diff = 0\n",
    "\n",
    "for i in range(num_predictions):\n",
    "    val = predictions[i]\n",
    "    print(description_test.iloc[i])\n",
    "    print('Predicted: ', val[0], 'Actual: ', labels_test.iloc[i], '\\n')\n",
    "    diff += abs(val[0] - labels_test.iloc[i])"
   ]
  },
  {
   "cell_type": "code",
   "execution_count": 24,
   "metadata": {},
   "outputs": [
    {
     "name": "stdout",
     "output_type": "stream",
     "text": [
      "Average prediction difference:  12.741373300552368\n"
     ]
    }
   ],
   "source": [
    "# Compare the average difference between actual price and the model's predicted price\n",
    "print('Average prediction difference: ', diff / num_predictions)"
   ]
  }
 ],
 "metadata": {
  "kernelspec": {
   "display_name": "Python 3",
   "language": "python",
   "name": "python3"
  },
  "language_info": {
   "codemirror_mode": {
    "name": "ipython",
    "version": 3
   },
   "file_extension": ".py",
   "mimetype": "text/x-python",
   "name": "python",
   "nbconvert_exporter": "python",
   "pygments_lexer": "ipython3",
   "version": "3.7.4"
  }
 },
 "nbformat": 4,
 "nbformat_minor": 2
}
